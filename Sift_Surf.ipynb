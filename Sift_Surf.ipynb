{
 "cells": [
  {
   "cell_type": "code",
   "execution_count": 1,
   "id": "cb4c03b5",
   "metadata": {},
   "outputs": [],
   "source": [
    "import cv2\n",
    "import numpy as np\n",
    "import os\n",
    "import pandas as pd\n",
    "from sklearn.preprocessing import StandardScaler\n",
    "from sklearn.svm import SVC, OneClassSVM\n",
    "from sklearn.model_selection import train_test_split\n",
    "from sklearn.metrics import accuracy_score, roc_auc_score\n",
    "\n",
    "# Configuration\n",
    "CSV_PATH = \"SIFT_SURF.csv\"  # CSV file with filenames and labels\n",
    "IMAGE_BASE_DIR = \"/Images\"  # Folder with all images\n",
    "TOP_N = 5  # Number of strongest keypoints to consider\n",
    "USE_SURF = True  # Set False to use SIFT\n",
    "\n",
    "def load_dataset_from_csv(csv_path, base_dir, max_samples_per_class=None):\n",
    "    \"\"\"Load image file paths and labels from CSV file.\"\"\"\n",
    "    df = pd.read_csv(csv_path)\n",
    "    \n",
    "    # Optionally limit samples per class\n",
    "    if max_samples_per_class:\n",
    "        df = df.groupby(\"classCode\").head(max_samples_per_class).reset_index(drop=True)\n",
    "    \n",
    "    # Build full image paths\n",
    "    df['filepath'] = df['file'].apply(lambda x: os.path.join(base_dir, x))\n",
    "    \n",
    "    # Map labels to integers (example mapping)\n",
    "    label_map = {\"OK\": 0, \"NOK\": 1}\n",
    "    df['label_int'] = df['classCode'].map(label_map)\n",
    "    \n",
    "    paths = df['filepath'].tolist()\n",
    "    labels = df['label_int'].values\n",
    "    \n",
    "    return paths, labels\n",
    "\n",
    "def create_feature_extractor(use_surf=True):\n",
    "    \"\"\"Initialize SURF or SIFT feature extractor.\"\"\"\n",
    "    if use_surf:\n",
    "        return cv2.xfeatures2d.SURF_create()\n",
    "    else:\n",
    "        return cv2.SIFT_create()\n",
    "\n",
    "def extract_features(image_path, extractor, top_n=5):\n",
    "    \"\"\"Extract feature vector based on top keypoints' size and response.\"\"\"\n",
    "    img = cv2.imread(image_path, cv2.IMREAD_GRAYSCALE)\n",
    "    if img is None:\n",
    "        return np.zeros(top_n * 2)\n",
    "    keypoints, _ = extractor.detectAndCompute(img, None)\n",
    "    if not keypoints:\n",
    "        return np.zeros(top_n * 2)\n",
    "    keypoints = sorted(keypoints, key=lambda x: -x.response)[:top_n]\n",
    "    features = np.array([[kp.size, kp.response] for kp in keypoints]).flatten()\n",
    "    if len(features) < top_n * 2:\n",
    "        features = np.pad(features, (0, top_n * 2 - len(features)))\n",
    "    return features\n",
    "\n",
    "def build_features(paths, extractor, top_n=5):\n",
    "    \"\"\"Extract features from all images.\"\"\"\n",
    "    return np.array([extract_features(p, extractor, top_n) for p in paths])"
   ]
  },
  {
   "cell_type": "code",
   "execution_count": 2,
   "id": "23127fc8",
   "metadata": {},
   "outputs": [],
   "source": [
    "# Load dataset from CSV\n",
    "paths, labels = load_dataset_from_csv(CSV_PATH, IMAGE_BASE_DIR, max_samples_per_class=50)"
   ]
  },
  {
   "cell_type": "code",
   "execution_count": 3,
   "id": "8c8324d9",
   "metadata": {},
   "outputs": [
    {
     "ename": "error",
     "evalue": "OpenCV(4.12.0) D:\\a\\opencv-python\\opencv-python\\opencv_contrib\\modules\\xfeatures2d\\src\\surf.cpp:1028: error: (-213:The function/feature is not implemented) This algorithm is patented and is excluded in this configuration; Set OPENCV_ENABLE_NONFREE CMake option and rebuild the library in function 'cv::xfeatures2d::SURF::create'\n",
     "output_type": "error",
     "traceback": [
      "\u001b[31m---------------------------------------------------------------------------\u001b[39m",
      "\u001b[31merror\u001b[39m                                     Traceback (most recent call last)",
      "\u001b[36mCell\u001b[39m\u001b[36m \u001b[39m\u001b[32mIn[3]\u001b[39m\u001b[32m, line 2\u001b[39m\n\u001b[32m      1\u001b[39m \u001b[38;5;66;03m# Create feature extractor\u001b[39;00m\n\u001b[32m----> \u001b[39m\u001b[32m2\u001b[39m extractor = \u001b[43mcreate_feature_extractor\u001b[49m\u001b[43m(\u001b[49m\u001b[43mUSE_SURF\u001b[49m\u001b[43m)\u001b[49m\n",
      "\u001b[36mCell\u001b[39m\u001b[36m \u001b[39m\u001b[32mIn[1]\u001b[39m\u001b[32m, line 39\u001b[39m, in \u001b[36mcreate_feature_extractor\u001b[39m\u001b[34m(use_surf)\u001b[39m\n\u001b[32m     37\u001b[39m \u001b[38;5;250m\u001b[39m\u001b[33;03m\"\"\"Initialize SURF or SIFT feature extractor.\"\"\"\u001b[39;00m\n\u001b[32m     38\u001b[39m \u001b[38;5;28;01mif\u001b[39;00m use_surf:\n\u001b[32m---> \u001b[39m\u001b[32m39\u001b[39m     \u001b[38;5;28;01mreturn\u001b[39;00m \u001b[43mcv2\u001b[49m\u001b[43m.\u001b[49m\u001b[43mxfeatures2d\u001b[49m\u001b[43m.\u001b[49m\u001b[43mSURF_create\u001b[49m\u001b[43m(\u001b[49m\u001b[43m)\u001b[49m\n\u001b[32m     40\u001b[39m \u001b[38;5;28;01melse\u001b[39;00m:\n\u001b[32m     41\u001b[39m     \u001b[38;5;28;01mreturn\u001b[39;00m cv2.SIFT_create()\n",
      "\u001b[31merror\u001b[39m: OpenCV(4.12.0) D:\\a\\opencv-python\\opencv-python\\opencv_contrib\\modules\\xfeatures2d\\src\\surf.cpp:1028: error: (-213:The function/feature is not implemented) This algorithm is patented and is excluded in this configuration; Set OPENCV_ENABLE_NONFREE CMake option and rebuild the library in function 'cv::xfeatures2d::SURF::create'\n"
     ]
    }
   ],
   "source": [
    "# Create feature extractor\n",
    "extractor = create_feature_extractor(USE_SURF)"
   ]
  },
  {
   "cell_type": "code",
   "execution_count": null,
   "id": "a8969ad8",
   "metadata": {},
   "outputs": [],
   "source": [
    "# Extract features\n",
    "features = build_features(paths, extractor, TOP_N)"
   ]
  },
  {
   "cell_type": "code",
   "execution_count": null,
   "id": "279f7649",
   "metadata": {},
   "outputs": [],
   "source": [
    "# Normalize features\n",
    "scaler = StandardScaler()\n",
    "X = scaler.fit_transform(features)\n",
    "y = labels"
   ]
  },
  {
   "cell_type": "code",
   "execution_count": null,
   "id": "3d12ed90",
   "metadata": {},
   "outputs": [],
   "source": [
    "# Split dataset into train/test\n",
    "X_train, X_test, y_train, y_test = train_test_split(X, y, stratify=y, test_size=0.3)"
   ]
  },
  {
   "cell_type": "code",
   "execution_count": null,
   "id": "d96ace83",
   "metadata": {},
   "outputs": [],
   "source": [
    "# Train supervised SVM\n",
    "svm = SVC(kernel='rbf', probability=True)\n",
    "svm.fit(X_train, y_train)\n",
    "y_pred = svm.predict(X_test)\n",
    "acc = accuracy_score(y_test, y_pred)\n",
    "auc = roc_auc_score(y_test, svm.predict_proba(X_test)[:, 1])\n",
    "print(f\"Supervised SVM | Accuracy: {acc:.3f} | AUC: {auc:.3f}\")"
   ]
  },
  {
   "cell_type": "code",
   "execution_count": null,
   "id": "6dd74339",
   "metadata": {},
   "outputs": [],
   "source": [
    "# Train One-Class SVM on OK samples only for anomaly detection\n",
    "ocsvm = OneClassSVM(gamma='auto', nu=0.1)\n",
    "ocsvm.fit(X_train[y_train == 0])\n",
    "y_pred_oc = ocsvm.predict(X_test)\n",
    "y_pred_oc = np.where(y_pred_oc == 1, 0, 1)  # Map to binary labels\n",
    "acc_oc = accuracy_score(y_test, y_pred_oc)\n",
    "auc_oc = roc_auc_score(y_test, y_pred_oc)\n",
    "print(f\"One-Class SVM | Accuracy: {acc_oc:.3f} | AUC: {auc_oc:.3f}\")\n"
   ]
  }
 ],
 "metadata": {
  "kernelspec": {
   "display_name": "Python 3",
   "language": "python",
   "name": "python3"
  },
  "language_info": {
   "codemirror_mode": {
    "name": "ipython",
    "version": 3
   },
   "file_extension": ".py",
   "mimetype": "text/x-python",
   "name": "python",
   "nbconvert_exporter": "python",
   "pygments_lexer": "ipython3",
   "version": "3.11.1"
  }
 },
 "nbformat": 4,
 "nbformat_minor": 5
}
